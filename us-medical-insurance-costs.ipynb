{
 "cells": [
  {
   "cell_type": "markdown",
   "metadata": {},
   "source": [
    "# U.S. Medical Insurance Costs"
   ]
  },
  {
   "cell_type": "code",
   "execution_count": null,
   "metadata": {},
   "outputs": [],
   "source": [
    "#Find out the average age of the patients in the dataset.\n",
    "#Analyze where a majority of the individuals are from.\n",
    "#Look at the different costs between smokers vs. non-smokers.\n"
   ]
  },
  {
   "cell_type": "code",
   "execution_count": null,
   "metadata": {},
   "outputs": [],
   "source": [
    "import csv\n",
    "with open(\"insurance.csv\") as database:\n",
    "    file_reader = csv.reader(database)\n",
    "    for row in file_reader:\n",
    "        print(', '.join(row))\n",
    "    "
   ]
  },
  {
   "cell_type": "code",
   "execution_count": 87,
   "metadata": {},
   "outputs": [],
   "source": [
    "#Let's store everything in variables that are easier to use in the analysis.\n",
    "\n",
    "dict_database = {'age':[], 'sex':[], 'bmi':[], 'children':[], 'smoker':[], 'region':[], 'charges':[]}\n",
    "with open(\"insurance.csv\", newline='') as database:\n",
    "    file_reader = csv.DictReader(database)\n",
    "    for row in file_reader:\n",
    "        for i in dict_database:\n",
    "            dict_database[i].append(row[i])"
   ]
  },
  {
   "cell_type": "code",
   "execution_count": 15,
   "metadata": {},
   "outputs": [
    {
     "name": "stdout",
     "output_type": "stream",
     "text": [
      "39.20702541106129\n"
     ]
    }
   ],
   "source": [
    "# function to find out the average age of the patients in the dataset.\n",
    "\n",
    "def avg_age(dict_database):\n",
    "    total_age = 0\n",
    "    for age in dict_database['age']:\n",
    "        total_age += int(age)\n",
    "    average_age = total_age/len(dict_database['age'])\n",
    "    print(average_age)\n",
    "\n",
    "avg_age(dict_database)"
   ]
  },
  {
   "cell_type": "code",
   "execution_count": 25,
   "metadata": {},
   "outputs": [
    {
     "name": "stdout",
     "output_type": "stream",
     "text": [
      "30.663396860986538\n"
     ]
    }
   ],
   "source": [
    "# function to find out the average bmi of the patients in the dataset.\n",
    "\n",
    "def avg_bmi(dict_database):\n",
    "    total_bmi = 0\n",
    "    for bmi in dict_database['bmi']:\n",
    "        total_bmi += float(bmi)\n",
    "    average_bmi = total_bmi/len(dict_database['bmi'])\n",
    "    print(average_bmi)\n",
    "\n",
    "avg_bmi(dict_database)"
   ]
  },
  {
   "cell_type": "code",
   "execution_count": 19,
   "metadata": {},
   "outputs": [
    {
     "name": "stdout",
     "output_type": "stream",
     "text": [
      "{'southwest': 325, 'southeast': 364, 'northwest': 325, 'northeast': 324}\n"
     ]
    }
   ],
   "source": [
    "#Similarly to the previous function we can find out where a majority of the individuals are from.\n",
    "\n",
    "def count_area(dict_database):\n",
    "    area_count = {}\n",
    "    for area in dict_database['region']:\n",
    "        if area not in area_count:\n",
    "            area_count[area] = 1\n",
    "        else:\n",
    "            area_count[area] += 1\n",
    "    return area_count\n",
    "\n",
    "area_count = count_area(dict_database)\n",
    "print(area_count)\n",
    "\n",
    "# We see that the majority of individuals are from southeast\n",
    "    "
   ]
  },
  {
   "cell_type": "code",
   "execution_count": 111,
   "metadata": {},
   "outputs": [],
   "source": [
    "# Now we can check where a person with the highest average bmi lives. \n",
    "#But before, we would need to create a different dictionary where one person is the key and variables are values\n",
    "\n",
    "id_person = []\n",
    "n=0\n",
    "for i in range(len(dict_database['age'])):\n",
    "    n+=1\n",
    "    id_person.append(n)\n",
    "    \n",
    "\n",
    "\n",
    "medical_data = {}\n",
    "for i in range(len(dict_database['age'])):\n",
    "    one_entry = {'age': dict_database['age'][i], 'sex': dict_database['sex'][i], 'bmi' : dict_database['bmi'][i], 'children': dict_database['children'][i], 'smoker': dict_database['smoker'][i], 'region': dict_database['region'][i], 'charges': dict_database['charges'][i]}\n",
    "    medical_data[id_person[i]] = one_entry\n"
   ]
  },
  {
   "cell_type": "code",
   "execution_count": 75,
   "metadata": {},
   "outputs": [
    {
     "name": "stdout",
     "output_type": "stream",
     "text": [
      "The region with the highest bmi of 53.13 is southeast\n"
     ]
    }
   ],
   "source": [
    "def highest_bmi():\n",
    "    highest_bmi_region = 'northeast'\n",
    "    highest_bmi_count = 0\n",
    "    for i in medical_data:\n",
    "        if float(medical_data[i]['bmi'])> float(highest_bmi_count):\n",
    "            highest_bmi_region = medical_data[i]['region']\n",
    "            highest_bmi_count = medical_data[i]['bmi']\n",
    "        else:\n",
    "            continue\n",
    "    print(\"The region with the highest bmi of \" + str(highest_bmi_count) + \" is \" + highest_bmi_region)\n",
    "\n",
    "\n",
    "highest_bmi()\n",
    "\n"
   ]
  },
  {
   "cell_type": "code",
   "execution_count": 85,
   "metadata": {},
   "outputs": [
    {
     "data": {
      "text/plain": [
       "{'southwest': 30.59661538461538,\n",
       " 'southeast': 33.35598901098903,\n",
       " 'northwest': 29.199784615384626,\n",
       " 'northeast': 29.17350308641976}"
      ]
     },
     "execution_count": 85,
     "metadata": {},
     "output_type": "execute_result"
    }
   ],
   "source": [
    "#But what about the highest average bmi per region?\n",
    "\n",
    "def avg_bmi_region():\n",
    "    southwest = []\n",
    "    southeast = []\n",
    "    northwest = []\n",
    "    northeast = []\n",
    "    total_southwest = 0\n",
    "    total_southeast = 0\n",
    "    total_northwest = 0\n",
    "    total_northeast = 0\n",
    "    avg_bmi_region = {}\n",
    "    for i in medical_data:\n",
    "        if medical_data[i]['region'] == 'southwest':\n",
    "            southwest.append(float(medical_data[i]['bmi']))\n",
    "        elif medical_data[i]['region'] == 'southeast':\n",
    "             southeast.append(float(medical_data[i]['bmi']))\n",
    "        elif medical_data[i]['region'] == 'northwest':\n",
    "             northwest.append(float(medical_data[i]['bmi']))\n",
    "        elif medical_data[i]['region'] == 'northeast':\n",
    "             northeast.append(float(medical_data[i]['bmi']))\n",
    "    for bmi in southwest:\n",
    "        total_southwest += bmi\n",
    "    for bmi in southeast:\n",
    "        total_southeast += bmi\n",
    "    for bmi in northwest:\n",
    "        total_northwest += bmi\n",
    "    for bmi in northeast:\n",
    "        total_northeast += bmi\n",
    "    avg_bmi_region['southwest'] = total_southwest/area_count['southwest']\n",
    "    avg_bmi_region['southeast'] = total_southeast/area_count['southeast']\n",
    "    avg_bmi_region['northwest'] = total_northwest/area_count['northwest']\n",
    "    avg_bmi_region['northeast'] = total_northeast/area_count['northeast']\n",
    "    return avg_bmi_region\n",
    "\n",
    "avg_bmi_region()\n"
   ]
  },
  {
   "cell_type": "code",
   "execution_count": 107,
   "metadata": {},
   "outputs": [
    {
     "data": {
      "text/plain": [
       "{'smoker': 32050.23183153285, 'non-smoker': 8434.268297856202}"
      ]
     },
     "execution_count": 107,
     "metadata": {},
     "output_type": "execute_result"
    }
   ],
   "source": [
    "#Look at the different costs between smokers vs. non-smokers.\n",
    "\n",
    "def smoker_vs():\n",
    "    smoker = []\n",
    "    non_sm = []\n",
    "    total_smoker_charges = 0\n",
    "    total_nonsm_charges = 0\n",
    "    avg_smoker = {}\n",
    "    for i in medical_data:\n",
    "        if medical_data[i]['smoker'] == 'no':\n",
    "            non_sm.append(float(medical_data[i]['charges']))\n",
    "        elif medical_data[i]['smoker'] == 'yes':\n",
    "             smoker.append(float(medical_data[i]['charges']))\n",
    "    avg_smoker['smoker'] = sum(smoker)/len(smoker)\n",
    "    avg_smoker['non-smoker'] = sum(non_sm)/len(non_sm)\n",
    "    return avg_smoker\n",
    "\n",
    "smoker_vs()\n",
    "    "
   ]
  }
 ],
 "metadata": {
  "kernelspec": {
   "display_name": "Python [conda env:base] *",
   "language": "python",
   "name": "conda-base-py"
  },
  "language_info": {
   "codemirror_mode": {
    "name": "ipython",
    "version": 3
   },
   "file_extension": ".py",
   "mimetype": "text/x-python",
   "name": "python",
   "nbconvert_exporter": "python",
   "pygments_lexer": "ipython3",
   "version": "3.12.7"
  }
 },
 "nbformat": 4,
 "nbformat_minor": 4
}
